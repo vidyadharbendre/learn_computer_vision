{
 "cells": [
  {
   "cell_type": "code",
   "execution_count": null,
   "id": "c541439f",
   "metadata": {},
   "outputs": [],
   "source": []
  },
  {
   "cell_type": "code",
   "execution_count": 2,
   "id": "0a4b8f44",
   "metadata": {},
   "outputs": [
    {
     "name": "stdout",
     "output_type": "stream",
     "text": [
      "Image loaded successfully from: /Users/vidyadharbendre/workspace/learn_computer_vision_using_examples/notebooks/data/images/roses.jpg\n",
      "BGR values at pixel (100, 50): [ 0 37 21]\n",
      "RGB values at pixel (100, 50): (21, 37, 0)\n",
      "Hex code at pixel (100, 50): #152500\n"
     ]
    }
   ],
   "source": [
    "import cv2\n",
    "import os\n",
    "\n",
    "class ImageProcessor:\n",
    "    def __init__(self, filename):\n",
    "        self.image_path = os.path.join(os.getcwd(), 'data', 'images', filename)\n",
    "        self.image = self.load_image()\n",
    "\n",
    "    # Method to load the image\n",
    "    def load_image(self):\n",
    "        image = cv2.imread(self.image_path)\n",
    "        if image is None:\n",
    "            raise FileNotFoundError(f\"Error: Image could not be loaded. Please check the file path: {self.image_path}\")\n",
    "        print(f\"Image loaded successfully from: {self.image_path}\")\n",
    "        return image\n",
    "    \n",
    "    # Method to get the pixel values at (x, y)\n",
    "    def get_pixel_values(self, x, y):\n",
    "        return self.image[y, x]  # OpenCV uses (y, x) format\n",
    "\n",
    "    # Method to convert BGR to RGB\n",
    "    def bgr_to_rgb(self, pixel_values):\n",
    "        return (pixel_values[2], pixel_values[1], pixel_values[0])\n",
    "\n",
    "    # Method to convert RGB to hex\n",
    "    def rgb_to_hex(self, rgb_values):\n",
    "        return '#{:02x}{:02x}{:02x}'.format(rgb_values[0], rgb_values[1], rgb_values[2]).upper()\n",
    "\n",
    "    # Method to process and print all pixel details\n",
    "    def process_pixel(self, x, y):\n",
    "        pixel_values = self.get_pixel_values(x, y)\n",
    "        print(f\"BGR values at pixel ({x}, {y}): {pixel_values}\")\n",
    "        \n",
    "        rgb_values = self.bgr_to_rgb(pixel_values)\n",
    "        print(f\"RGB values at pixel ({x}, {y}): {rgb_values}\")\n",
    "        \n",
    "        hex_value = self.rgb_to_hex(rgb_values)\n",
    "        print(f\"Hex code at pixel ({x}, {y}): {hex_value}\")\n",
    "\n",
    "# Main execution\n",
    "if __name__ == \"__main__\":\n",
    "    processor = ImageProcessor('roses.jpg')\n",
    "    processor.process_pixel(100, 50)  # Example coordinates\n"
   ]
  },
  {
   "cell_type": "code",
   "execution_count": null,
   "id": "4e87621f",
   "metadata": {},
   "outputs": [],
   "source": []
  }
 ],
 "metadata": {
  "kernelspec": {
   "display_name": "Python 3 (ipykernel)",
   "language": "python",
   "name": "python3"
  },
  "language_info": {
   "codemirror_mode": {
    "name": "ipython",
    "version": 3
   },
   "file_extension": ".py",
   "mimetype": "text/x-python",
   "name": "python",
   "nbconvert_exporter": "python",
   "pygments_lexer": "ipython3",
   "version": "3.9.16"
  }
 },
 "nbformat": 4,
 "nbformat_minor": 5
}
