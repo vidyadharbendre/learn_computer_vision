{
 "cells": [
  {
   "cell_type": "code",
   "execution_count": null,
   "id": "57f50f44",
   "metadata": {},
   "outputs": [],
   "source": []
  },
  {
   "cell_type": "code",
   "execution_count": 1,
   "id": "308959e8",
   "metadata": {},
   "outputs": [
    {
     "name": "stderr",
     "output_type": "stream",
     "text": [
      "[ WARN:0@0.221] global loadsave.cpp:248 findDecoder imread_('your_image.jpg'): can't open/read file: check file path/integrity\n"
     ]
    },
    {
     "ename": "error",
     "evalue": "OpenCV(4.9.0) /Users/xperience/GHA-OpenCV-Python2/_work/opencv-python/opencv-python/opencv/modules/imgproc/src/color.cpp:196: error: (-215:Assertion failed) !_src.empty() in function 'cvtColor'\n",
     "output_type": "error",
     "traceback": [
      "\u001b[0;31m---------------------------------------------------------------------------\u001b[0m",
      "\u001b[0;31merror\u001b[0m                                     Traceback (most recent call last)",
      "Cell \u001b[0;32mIn[1], line 42\u001b[0m\n\u001b[1;32m     39\u001b[0m             \u001b[38;5;28mprint\u001b[39m(\u001b[38;5;124m\"\u001b[39m\u001b[38;5;124mThe RGB values do not match.\u001b[39m\u001b[38;5;124m\"\u001b[39m)\n\u001b[1;32m     41\u001b[0m \u001b[38;5;66;03m# Example usage of OOP\u001b[39;00m\n\u001b[0;32m---> 42\u001b[0m image_processor \u001b[38;5;241m=\u001b[39m \u001b[43mImageProcessor\u001b[49m\u001b[43m(\u001b[49m\u001b[38;5;124;43m'\u001b[39;49m\u001b[38;5;124;43myour_image.jpg\u001b[39;49m\u001b[38;5;124;43m'\u001b[39;49m\u001b[43m)\u001b[49m  \u001b[38;5;66;03m# Replace with your image path\u001b[39;00m\n\u001b[1;32m     43\u001b[0m image_processor\u001b[38;5;241m.\u001b[39mdisplay_image()\n\u001b[1;32m     44\u001b[0m image_processor\u001b[38;5;241m.\u001b[39mcompare_rgb(\u001b[38;5;241m100\u001b[39m, \u001b[38;5;241m100\u001b[39m, \u001b[38;5;124m'\u001b[39m\u001b[38;5;124m#FF5733\u001b[39m\u001b[38;5;124m'\u001b[39m)  \u001b[38;5;66;03m# Replace hex code and coordinates as needed\u001b[39;00m\n",
      "Cell \u001b[0;32mIn[1], line 14\u001b[0m, in \u001b[0;36mImageProcessor.__init__\u001b[0;34m(self, image_path)\u001b[0m\n\u001b[1;32m     12\u001b[0m \u001b[38;5;28mself\u001b[39m\u001b[38;5;241m.\u001b[39mimage_path \u001b[38;5;241m=\u001b[39m image_path\n\u001b[1;32m     13\u001b[0m \u001b[38;5;28mself\u001b[39m\u001b[38;5;241m.\u001b[39mimage \u001b[38;5;241m=\u001b[39m cv2\u001b[38;5;241m.\u001b[39mimread(image_path)\n\u001b[0;32m---> 14\u001b[0m \u001b[38;5;28mself\u001b[39m\u001b[38;5;241m.\u001b[39mimage_rgb \u001b[38;5;241m=\u001b[39m \u001b[43mcv2\u001b[49m\u001b[38;5;241;43m.\u001b[39;49m\u001b[43mcvtColor\u001b[49m\u001b[43m(\u001b[49m\u001b[38;5;28;43mself\u001b[39;49m\u001b[38;5;241;43m.\u001b[39;49m\u001b[43mimage\u001b[49m\u001b[43m,\u001b[49m\u001b[43m \u001b[49m\u001b[43mcv2\u001b[49m\u001b[38;5;241;43m.\u001b[39;49m\u001b[43mCOLOR_BGR2RGB\u001b[49m\u001b[43m)\u001b[49m\n",
      "\u001b[0;31merror\u001b[0m: OpenCV(4.9.0) /Users/xperience/GHA-OpenCV-Python2/_work/opencv-python/opencv-python/opencv/modules/imgproc/src/color.cpp:196: error: (-215:Assertion failed) !_src.empty() in function 'cvtColor'\n"
     ]
    }
   ],
   "source": [
    "# 03_oop_image_processing.ipynb\n",
    "\n",
    "# Basic Image Processing using OOP\n",
    "\n",
    "# Import necessary libraries\n",
    "import cv2\n",
    "import matplotlib.pyplot as plt\n",
    "\n",
    "# OOP Class for Image Processing\n",
    "class ImageProcessor:\n",
    "    def __init__(self, image_path):\n",
    "        self.image_path = image_path\n",
    "        self.image = cv2.imread(image_path)\n",
    "        self.image_rgb = cv2.cvtColor(self.image, cv2.COLOR_BGR2RGB)\n",
    "\n",
    "    def display_image(self):\n",
    "        plt.imshow(self.image_rgb)\n",
    "        plt.axis('off')\n",
    "        plt.show()\n",
    "\n",
    "    def get_pixel_values(self, x, y):\n",
    "        pixel_values = self.image[y, x]\n",
    "        return (pixel_values[2], pixel_values[1], pixel_values[0])  # Convert to RGB\n",
    "\n",
    "    @staticmethod\n",
    "    def hex_to_rgb(hex_code):\n",
    "        hex_code = hex_code.lstrip('#')\n",
    "        return tuple(int(hex_code[i:i + 2], 16) for i in (0, 2, 4))\n",
    "\n",
    "    def compare_rgb(self, x, y, hex_code):\n",
    "        rgb_at_pixel = self.get_pixel_values(x, y)\n",
    "        rgb_from_hex = self.hex_to_rgb(hex_code)\n",
    "        print(f\"RGB values at pixel ({x}, {y}): {rgb_at_pixel}\")\n",
    "        print(f\"RGB values from hex code {hex_code}: {rgb_from_hex}\")\n",
    "\n",
    "        if rgb_at_pixel == rgb_from_hex:\n",
    "            print(\"The RGB values match!\")\n",
    "        else:\n",
    "            print(\"The RGB values do not match.\")\n",
    "\n",
    "# Example usage of OOP\n",
    "image_processor = ImageProcessor('your_image.jpg')  # Replace with your image path\n",
    "image_processor.display_image()\n",
    "image_processor.compare_rgb(100, 100, '#FF5733')  # Replace hex code and coordinates as needed\n"
   ]
  },
  {
   "cell_type": "code",
   "execution_count": null,
   "id": "7c41565d",
   "metadata": {},
   "outputs": [],
   "source": []
  }
 ],
 "metadata": {
  "kernelspec": {
   "display_name": "Python 3 (ipykernel)",
   "language": "python",
   "name": "python3"
  },
  "language_info": {
   "codemirror_mode": {
    "name": "ipython",
    "version": 3
   },
   "file_extension": ".py",
   "mimetype": "text/x-python",
   "name": "python",
   "nbconvert_exporter": "python",
   "pygments_lexer": "ipython3",
   "version": "3.9.16"
  }
 },
 "nbformat": 4,
 "nbformat_minor": 5
}
