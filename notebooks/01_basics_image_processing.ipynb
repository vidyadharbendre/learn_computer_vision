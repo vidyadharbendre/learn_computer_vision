{
 "cells": [
  {
   "cell_type": "code",
   "execution_count": null,
   "id": "763b2d2d",
   "metadata": {},
   "outputs": [],
   "source": []
  },
  {
   "cell_type": "code",
   "execution_count": 1,
   "id": "c14e2048",
   "metadata": {},
   "outputs": [
    {
     "name": "stderr",
     "output_type": "stream",
     "text": [
      "[ WARN:0@0.585] global loadsave.cpp:248 findDecoder imread_('your_image.jpg'): can't open/read file: check file path/integrity\n"
     ]
    },
    {
     "ename": "error",
     "evalue": "OpenCV(4.9.0) /Users/xperience/GHA-OpenCV-Python2/_work/opencv-python/opencv-python/opencv/modules/imgproc/src/color.cpp:196: error: (-215:Assertion failed) !_src.empty() in function 'cvtColor'\n",
     "output_type": "error",
     "traceback": [
      "\u001b[0;31m---------------------------------------------------------------------------\u001b[0m",
      "\u001b[0;31merror\u001b[0m                                     Traceback (most recent call last)",
      "Cell \u001b[0;32mIn[1], line 12\u001b[0m\n\u001b[1;32m     10\u001b[0m image_path \u001b[38;5;241m=\u001b[39m \u001b[38;5;124m'\u001b[39m\u001b[38;5;124myour_image.jpg\u001b[39m\u001b[38;5;124m'\u001b[39m  \u001b[38;5;66;03m# Replace with your image path\u001b[39;00m\n\u001b[1;32m     11\u001b[0m image \u001b[38;5;241m=\u001b[39m cv2\u001b[38;5;241m.\u001b[39mimread(image_path)\n\u001b[0;32m---> 12\u001b[0m image_rgb \u001b[38;5;241m=\u001b[39m \u001b[43mcv2\u001b[49m\u001b[38;5;241;43m.\u001b[39;49m\u001b[43mcvtColor\u001b[49m\u001b[43m(\u001b[49m\u001b[43mimage\u001b[49m\u001b[43m,\u001b[49m\u001b[43m \u001b[49m\u001b[43mcv2\u001b[49m\u001b[38;5;241;43m.\u001b[39;49m\u001b[43mCOLOR_BGR2RGB\u001b[49m\u001b[43m)\u001b[49m\n\u001b[1;32m     14\u001b[0m \u001b[38;5;66;03m# Display the image\u001b[39;00m\n\u001b[1;32m     15\u001b[0m plt\u001b[38;5;241m.\u001b[39mimshow(image_rgb)\n",
      "\u001b[0;31merror\u001b[0m: OpenCV(4.9.0) /Users/xperience/GHA-OpenCV-Python2/_work/opencv-python/opencv-python/opencv/modules/imgproc/src/color.cpp:196: error: (-215:Assertion failed) !_src.empty() in function 'cvtColor'\n"
     ]
    }
   ],
   "source": [
    "# 01_basic_image_processing.ipynb\n",
    "\n",
    "# Basic Image Processing without Functions\n",
    "\n",
    "# Import necessary libraries\n",
    "import cv2\n",
    "import matplotlib.pyplot as plt\n",
    "\n",
    "# Load and display the image\n",
    "image_path = 'your_image.jpg'  # Replace with your image path\n",
    "image = cv2.imread(image_path)\n",
    "image_rgb = cv2.cvtColor(image, cv2.COLOR_BGR2RGB)\n",
    "\n",
    "# Display the image\n",
    "plt.imshow(image_rgb)\n",
    "plt.axis('off')\n",
    "plt.show()\n",
    "\n",
    "# Access pixel values\n",
    "x, y = 100, 100  # Example coordinates\n",
    "pixel_values = image[y, x]  # OpenCV uses (y, x)\n",
    "rgb_values = (pixel_values[2], pixel_values[1], pixel_values[0])  # Convert to RGB\n",
    "print(f\"RGB values at pixel ({x}, {y}): {rgb_values}\")\n",
    "\n",
    "# Hex to RGB conversion\n",
    "hex_code = '#FF5733'  # Example hex color\n",
    "hex_code = hex_code.lstrip('#')\n",
    "rgb_from_hex = tuple(int(hex_code[i:i + 2], 16) for i in (0, 2, 4))\n",
    "print(f\"RGB values for hex code {hex_code}: {rgb_from_hex}\")\n",
    "\n",
    "# Comparison\n",
    "if rgb_values == rgb_from_hex:\n",
    "    print(\"The RGB values match!\")\n",
    "else:\n",
    "    print(\"The RGB values do not match.\")"
   ]
  },
  {
   "cell_type": "code",
   "execution_count": 11,
   "id": "d8275e42",
   "metadata": {},
   "outputs": [
    {
     "name": "stdout",
     "output_type": "stream",
     "text": [
      "/Users/vidyadharbendre/workspace/learn_computer_vision_using_examples/notebooks/data/images/roses.jpg\n",
      "Image found!\n"
     ]
    }
   ],
   "source": [
    "import os\n",
    "\n",
    "# Get the current working directory\n",
    "current_dir = os.getcwd()\n",
    "\n",
    "# Construct the path to the image in the data/images directory\n",
    "image_path = os.path.join(current_dir, 'data', 'images', 'roses.jpg')\n",
    "\n",
    "# Print the full path\n",
    "print(image_path)\n",
    "\n",
    "# Check if the image exists\n",
    "if os.path.exists(image_path):\n",
    "    print(\"Image found!\")\n",
    "else:\n",
    "    print(\"Image not found.\")\n"
   ]
  },
  {
   "cell_type": "code",
   "execution_count": 12,
   "id": "f2fa5e32",
   "metadata": {},
   "outputs": [
    {
     "data": {
      "text/plain": [
       "'/Users/vidyadharbendre/workspace/learn_computer_vision_using_examples/notebooks/data/images/roses.jpg'"
      ]
     },
     "execution_count": 12,
     "metadata": {},
     "output_type": "execute_result"
    }
   ],
   "source": [
    "image_path"
   ]
  },
  {
   "cell_type": "code",
   "execution_count": 10,
   "id": "bf864ce6",
   "metadata": {},
   "outputs": [
    {
     "data": {
      "text/plain": [
       "'/Users/vidyadharbendre/workspace/learn_computer_vision_using_examples/notebooks'"
      ]
     },
     "execution_count": 10,
     "metadata": {},
     "output_type": "execute_result"
    }
   ],
   "source": [
    "os.getcwd()"
   ]
  },
  {
   "cell_type": "code",
   "execution_count": null,
   "id": "07ff8c20",
   "metadata": {},
   "outputs": [],
   "source": []
  }
 ],
 "metadata": {
  "kernelspec": {
   "display_name": "Python 3 (ipykernel)",
   "language": "python",
   "name": "python3"
  },
  "language_info": {
   "codemirror_mode": {
    "name": "ipython",
    "version": 3
   },
   "file_extension": ".py",
   "mimetype": "text/x-python",
   "name": "python",
   "nbconvert_exporter": "python",
   "pygments_lexer": "ipython3",
   "version": "3.9.16"
  }
 },
 "nbformat": 4,
 "nbformat_minor": 5
}
