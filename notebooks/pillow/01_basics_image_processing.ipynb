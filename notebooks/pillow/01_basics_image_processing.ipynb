{
 "cells": [
  {
   "cell_type": "code",
   "execution_count": 4,
   "id": "c02a06fd",
   "metadata": {},
   "outputs": [],
   "source": [
    "from PIL import Image\n",
    "import os"
   ]
  },
  {
   "cell_type": "code",
   "execution_count": 5,
   "id": "92c50f78",
   "metadata": {},
   "outputs": [
    {
     "data": {
      "text/plain": [
       "'/Users/vidyadharbendre/workspace/learn_computer_vision_using_examples/notebooks/pillow'"
      ]
     },
     "execution_count": 5,
     "metadata": {},
     "output_type": "execute_result"
    }
   ],
   "source": [
    "os.getcwd()"
   ]
  },
  {
   "cell_type": "code",
   "execution_count": 6,
   "id": "9d7a3a08",
   "metadata": {},
   "outputs": [
    {
     "name": "stdout",
     "output_type": "stream",
     "text": [
      "Pixel value at (100, 50) - RGB: (21, 37, 0)\n",
      "Red: 21, Green: 37, Blue: 0\n"
     ]
    }
   ],
   "source": [
    "\n",
    "\n",
    "# Path to the image\n",
    "image_path = os.path.join(os.getcwd(), '../', 'data', 'images', 'roses.jpg')\n",
    "\n",
    "# Load the image\n",
    "try:\n",
    "    image = Image.open(image_path)\n",
    "except IOError:\n",
    "    print(\"Error: Image could not be loaded.\")\n",
    "else:\n",
    "    # Coordinates for the pixel\n",
    "    x = 100  # X-coordinate\n",
    "    y = 50   # Y-coordinate\n",
    "\n",
    "    # Convert image to RGB (Pillow uses RGB by default, but we can ensure it)\n",
    "    image = image.convert('RGB')\n",
    "\n",
    "    # Get the pixel value at (x, y)\n",
    "    pixel_value = image.getpixel((x, y))  # Note: Pillow uses (x, y)\n",
    "\n",
    "    # The pixel value will be in RGB format\n",
    "    red, green, blue = pixel_value\n",
    "\n",
    "    # Print the pixel values\n",
    "    print(f\"Pixel value at ({x}, {y}) - RGB: {pixel_value}\")\n",
    "    print(f\"Red: {red}, Green: {green}, Blue: {blue}\")"
   ]
  },
  {
   "cell_type": "code",
   "execution_count": 8,
   "id": "55f34d26",
   "metadata": {},
   "outputs": [],
   "source": [
    "image.show()"
   ]
  },
  {
   "cell_type": "code",
   "execution_count": null,
   "id": "c2339ca0",
   "metadata": {},
   "outputs": [],
   "source": []
  }
 ],
 "metadata": {
  "kernelspec": {
   "display_name": "Python 3 (ipykernel)",
   "language": "python",
   "name": "python3"
  },
  "language_info": {
   "codemirror_mode": {
    "name": "ipython",
    "version": 3
   },
   "file_extension": ".py",
   "mimetype": "text/x-python",
   "name": "python",
   "nbconvert_exporter": "python",
   "pygments_lexer": "ipython3",
   "version": "3.9.16"
  }
 },
 "nbformat": 4,
 "nbformat_minor": 5
}
