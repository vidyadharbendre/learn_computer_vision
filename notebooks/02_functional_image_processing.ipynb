{
 "cells": [
  {
   "cell_type": "code",
   "execution_count": null,
   "id": "8135d39f",
   "metadata": {},
   "outputs": [],
   "source": []
  },
  {
   "cell_type": "code",
   "execution_count": 1,
   "id": "1c8f729d",
   "metadata": {},
   "outputs": [
    {
     "name": "stderr",
     "output_type": "stream",
     "text": [
      "[ WARN:0@0.231] global loadsave.cpp:248 findDecoder imread_('your_image.jpg'): can't open/read file: check file path/integrity\n"
     ]
    },
    {
     "ename": "error",
     "evalue": "OpenCV(4.9.0) /Users/xperience/GHA-OpenCV-Python2/_work/opencv-python/opencv-python/opencv/modules/imgproc/src/color.cpp:196: error: (-215:Assertion failed) !_src.empty() in function 'cvtColor'\n",
     "output_type": "error",
     "traceback": [
      "\u001b[0;31m---------------------------------------------------------------------------\u001b[0m",
      "\u001b[0;31merror\u001b[0m                                     Traceback (most recent call last)",
      "Cell \u001b[0;32mIn[1], line 43\u001b[0m\n\u001b[1;32m     41\u001b[0m \u001b[38;5;66;03m# Example usage\u001b[39;00m\n\u001b[1;32m     42\u001b[0m image_path \u001b[38;5;241m=\u001b[39m \u001b[38;5;124m'\u001b[39m\u001b[38;5;124myour_image.jpg\u001b[39m\u001b[38;5;124m'\u001b[39m  \u001b[38;5;66;03m# Replace with your image path\u001b[39;00m\n\u001b[0;32m---> 43\u001b[0m \u001b[43mupload_and_display_image\u001b[49m\u001b[43m(\u001b[49m\u001b[43mimage_path\u001b[49m\u001b[43m)\u001b[49m\n\u001b[1;32m     44\u001b[0m x, y \u001b[38;5;241m=\u001b[39m \u001b[38;5;241m100\u001b[39m, \u001b[38;5;241m100\u001b[39m  \u001b[38;5;66;03m# Example coordinates\u001b[39;00m\n\u001b[1;32m     45\u001b[0m compare_rgb_values(image_path, x, \u001b[38;5;124m'\u001b[39m\u001b[38;5;124m#FF5733\u001b[39m\u001b[38;5;124m'\u001b[39m)  \u001b[38;5;66;03m# Replace hex code as needed\u001b[39;00m\n",
      "Cell \u001b[0;32mIn[1], line 12\u001b[0m, in \u001b[0;36mupload_and_display_image\u001b[0;34m(image_path)\u001b[0m\n\u001b[1;32m     10\u001b[0m \u001b[38;5;28;01mdef\u001b[39;00m \u001b[38;5;21mupload_and_display_image\u001b[39m(image_path):\n\u001b[1;32m     11\u001b[0m     image \u001b[38;5;241m=\u001b[39m cv2\u001b[38;5;241m.\u001b[39mimread(image_path)\n\u001b[0;32m---> 12\u001b[0m     image_rgb \u001b[38;5;241m=\u001b[39m \u001b[43mcv2\u001b[49m\u001b[38;5;241;43m.\u001b[39;49m\u001b[43mcvtColor\u001b[49m\u001b[43m(\u001b[49m\u001b[43mimage\u001b[49m\u001b[43m,\u001b[49m\u001b[43m \u001b[49m\u001b[43mcv2\u001b[49m\u001b[38;5;241;43m.\u001b[39;49m\u001b[43mCOLOR_BGR2RGB\u001b[49m\u001b[43m)\u001b[49m\n\u001b[1;32m     13\u001b[0m     plt\u001b[38;5;241m.\u001b[39mimshow(image_rgb)\n\u001b[1;32m     14\u001b[0m     plt\u001b[38;5;241m.\u001b[39maxis(\u001b[38;5;124m'\u001b[39m\u001b[38;5;124moff\u001b[39m\u001b[38;5;124m'\u001b[39m)\n",
      "\u001b[0;31merror\u001b[0m: OpenCV(4.9.0) /Users/xperience/GHA-OpenCV-Python2/_work/opencv-python/opencv-python/opencv/modules/imgproc/src/color.cpp:196: error: (-215:Assertion failed) !_src.empty() in function 'cvtColor'\n"
     ]
    }
   ],
   "source": [
    "# 02_functional_image_processing.ipynb\n",
    "\n",
    "# Basic Image Processing with Functions\n",
    "\n",
    "# Import necessary libraries\n",
    "import cv2\n",
    "import matplotlib.pyplot as plt\n",
    "\n",
    "# Function to upload and display the image\n",
    "def upload_and_display_image(image_path):\n",
    "    image = cv2.imread(image_path)\n",
    "    image_rgb = cv2.cvtColor(image, cv2.COLOR_BGR2RGB)\n",
    "    plt.imshow(image_rgb)\n",
    "    plt.axis('off')\n",
    "    plt.show()\n",
    "\n",
    "# Function to get pixel values\n",
    "def get_pixel_values(image_path, x, y):\n",
    "    image = cv2.imread(image_path)\n",
    "    pixel_values = image[y, x]\n",
    "    rgb_values = (pixel_values[2], pixel_values[1], pixel_values[0])  # Convert to RGB\n",
    "    return rgb_values\n",
    "\n",
    "# Function to convert hex to RGB\n",
    "def hex_to_rgb(hex_code):\n",
    "    hex_code = hex_code.lstrip('#')\n",
    "    return tuple(int(hex_code[i:i + 2], 16) for i in (0, 2, 4))\n",
    "\n",
    "# Function to compare RGB values\n",
    "def compare_rgb_values(image_path, x, y, hex_code):\n",
    "    rgb_at_pixel = get_pixel_values(image_path, x, y)\n",
    "    rgb_from_hex = hex_to_rgb(hex_code)\n",
    "    print(f\"RGB values at pixel ({x}, {y}): {rgb_at_pixel}\")\n",
    "    print(f\"RGB values from hex code {hex_code}: {rgb_from_hex}\")\n",
    "\n",
    "    if rgb_at_pixel == rgb_from_hex:\n",
    "        print(\"The RGB values match!\")\n",
    "    else:\n",
    "        print(\"The RGB values do not match.\")\n",
    "\n",
    "# Example usage\n",
    "image_path = 'your_image.jpg'  # Replace with your image path\n",
    "upload_and_display_image(image_path)\n",
    "x, y = 100, 100  # Example coordinates\n",
    "compare_rgb_values(image_path, x, '#FF5733')  # Replace hex code as needed\n"
   ]
  },
  {
   "cell_type": "code",
   "execution_count": null,
   "id": "7bf565ca",
   "metadata": {},
   "outputs": [],
   "source": []
  }
 ],
 "metadata": {
  "kernelspec": {
   "display_name": "Python 3 (ipykernel)",
   "language": "python",
   "name": "python3"
  },
  "language_info": {
   "codemirror_mode": {
    "name": "ipython",
    "version": 3
   },
   "file_extension": ".py",
   "mimetype": "text/x-python",
   "name": "python",
   "nbconvert_exporter": "python",
   "pygments_lexer": "ipython3",
   "version": "3.9.16"
  }
 },
 "nbformat": 4,
 "nbformat_minor": 5
}
