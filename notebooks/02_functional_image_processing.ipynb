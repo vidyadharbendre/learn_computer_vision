{
 "cells": [
  {
   "cell_type": "code",
   "execution_count": 12,
   "id": "fa9d7054",
   "metadata": {},
   "outputs": [],
   "source": [
    "# 02_functional_image_processing.ipynb\n",
    "\n",
    "# Basic Image Processing with Functions\n",
    "\n",
    "# Import necessary libraries\n",
    "import cv2\n",
    "import matplotlib.pyplot as plt\n",
    "import os"
   ]
  },
  {
   "cell_type": "code",
   "execution_count": 25,
   "id": "ae544f87",
   "metadata": {},
   "outputs": [
    {
     "name": "stdout",
     "output_type": "stream",
     "text": [
      "Loading image from: /Users/vidyadharbendre/workspace/learn_computer_vision_using_examples/notebooks/data/images/roses.jpg\n",
      "BGR values at pixel (100, 50): [ 0 37 21]\n",
      "RGB values at pixel (100, 50): (21, 37, 0)\n",
      "Hex code at pixel (100, 50): #152500\n"
     ]
    }
   ],
   "source": [
    "import cv2\n",
    "import os\n",
    "\n",
    "# Function to get the image path\n",
    "def get_image_path(filename):\n",
    "    return os.path.join(os.getcwd(), 'data', 'images', filename)\n",
    "\n",
    "# Function to load the image\n",
    "def load_image(image_path):\n",
    "    image = cv2.imread(image_path)\n",
    "    if image is None:\n",
    "        raise FileNotFoundError(f\"Error: Image could not be loaded. Please check the file path: {image_path}\")\n",
    "    return image\n",
    "\n",
    "# Function to get the pixel values at (x, y)\n",
    "def get_pixel_values(image, x, y):\n",
    "    return image[y, x]  # OpenCV uses (y, x) format\n",
    "\n",
    "# Function to convert BGR to RGB\n",
    "def bgr_to_rgb(pixel_values):\n",
    "    return (pixel_values[2], pixel_values[1], pixel_values[0])\n",
    "\n",
    "# Function to convert RGB to hex\n",
    "def rgb_to_hex(rgb_values):\n",
    "    return '#{:02x}{:02x}{:02x}'.format(rgb_values[0], rgb_values[1], rgb_values[2]).upper()\n",
    "\n",
    "# Main function to handle everything\n",
    "def main():\n",
    "    image_path = get_image_path('roses.jpg')\n",
    "    print(f\"Loading image from: {image_path}\")\n",
    "    \n",
    "    image = load_image(image_path)\n",
    "    \n",
    "    # Example pixel coordinates\n",
    "    x, y = 100, 50\n",
    "    pixel_values = get_pixel_values(image, x, y)\n",
    "    \n",
    "    print(f\"BGR values at pixel ({x}, {y}): {pixel_values}\")\n",
    "    \n",
    "    rgb_values = bgr_to_rgb(pixel_values)\n",
    "    print(f\"RGB values at pixel ({x}, {y}): {rgb_values}\")\n",
    "    \n",
    "    hex_value = rgb_to_hex(rgb_values)\n",
    "    print(f\"Hex code at pixel ({x}, {y}): {hex_value}\")\n",
    "\n",
    "# Execute the main function\n",
    "if __name__ == \"__main__\":\n",
    "    main()\n"
   ]
  },
  {
   "cell_type": "code",
   "execution_count": null,
   "id": "e232c283",
   "metadata": {},
   "outputs": [],
   "source": []
  }
 ],
 "metadata": {
  "kernelspec": {
   "display_name": "Python 3 (ipykernel)",
   "language": "python",
   "name": "python3"
  },
  "language_info": {
   "codemirror_mode": {
    "name": "ipython",
    "version": 3
   },
   "file_extension": ".py",
   "mimetype": "text/x-python",
   "name": "python",
   "nbconvert_exporter": "python",
   "pygments_lexer": "ipython3",
   "version": "3.9.16"
  }
 },
 "nbformat": 4,
 "nbformat_minor": 5
}
